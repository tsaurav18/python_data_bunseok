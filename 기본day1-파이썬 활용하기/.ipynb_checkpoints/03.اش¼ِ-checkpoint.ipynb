{
 "cells": [
  {
   "cell_type": "markdown",
   "metadata": {},
   "source": [
    "# 함수\n",
    "\n",
    "## 함수 구조\n",
    "```\n",
    "def 함수명(매개변수):\n",
    "    <수행할 문장1>\n",
    "    <수행할 문장2>\n",
    "    ...\n",
    "```"
   ]
  },
  {
   "cell_type": "markdown",
   "metadata": {},
   "source": [
    "함수는 들어온 입력값을 받아 어떤 처리를 하여 적절한 결과값을 돌려준다.\n",
    "```\n",
    "입력값 ---> 함수 ----> 리턴값\n",
    "```"
   ]
  },
  {
   "cell_type": "code",
   "execution_count": 3,
   "metadata": {},
   "outputs": [
    {
     "name": "stdout",
     "output_type": "stream",
     "text": [
      "7\n"
     ]
    }
   ],
   "source": []
  },
  {
   "cell_type": "code",
   "execution_count": 3,
   "metadata": {},
   "outputs": [
    {
     "name": "stdout",
     "output_type": "stream",
     "text": [
      "None\n"
     ]
    }
   ],
   "source": []
  },
  {
   "cell_type": "markdown",
   "metadata": {},
   "source": [
    "# 기본 매개변수 \n",
    "- 사용자가 매개변수 값을 입력하지 않아도 미리 등록해놓은 기본값을 사용한다.\n",
    "\n",
    "### 함수 선언시 \n",
    "```python\n",
    "def 함수이름(A = 기본값, B = 기본값):\n",
    "    함수내용\n",
    "```"
   ]
  },
  {
   "cell_type": "code",
   "execution_count": 4,
   "metadata": {},
   "outputs": [],
   "source": []
  },
  {
   "cell_type": "code",
   "execution_count": 6,
   "metadata": {},
   "outputs": [
    {
     "name": "stdout",
     "output_type": "stream",
     "text": [
      "8\n"
     ]
    }
   ],
   "source": []
  },
  {
   "cell_type": "code",
   "execution_count": 5,
   "metadata": {},
   "outputs": [
    {
     "ename": "SyntaxError",
     "evalue": "non-default argument follows default argument (<ipython-input-5-7e4314b3baf5>, line 1)",
     "output_type": "error",
     "traceback": [
      "\u001b[1;36m  File \u001b[1;32m\"<ipython-input-5-7e4314b3baf5>\"\u001b[1;36m, line \u001b[1;32m1\u001b[0m\n\u001b[1;33m    def plus2(a=4,b):\u001b[0m\n\u001b[1;37m             ^\u001b[0m\n\u001b[1;31mSyntaxError\u001b[0m\u001b[1;31m:\u001b[0m non-default argument follows default argument\n"
     ]
    }
   ],
   "source": []
  },
  {
   "cell_type": "markdown",
   "metadata": {},
   "source": [
    "# 키워드 매개변수\n",
    "- 기능이 복잡한 함수일수록 함수에서 필요로 하는 매개변수는 많아집니다.\n",
    "- numpy, pandas 에 존재하는 함수들 - 매개변수가 수십가지.\n",
    "- 위치 매개변수 형태로 입력하는건 불가능하다.\n",
    "- 수십가지의 매개변수의 순서를 기억하는건 불가능.\n",
    "- 키워드 매개변수를 사용해서 특정 매개변수에 직접 값을 입력한다.\n",
    "\n",
    "### 함수 실행시\n",
    "```python\n",
    "함수이름(매개변수이름2 = 값, 매개변수이름1 = 값)\n",
    "```"
   ]
  },
  {
   "cell_type": "code",
   "execution_count": 1,
   "metadata": {},
   "outputs": [],
   "source": [
    "def person(name, age, address, phone): \n",
    "    r = '''이 사람의 이름은 {name2},\n",
    "이 사람의 나이는 {age2},\n",
    "이 사람의 주소는 {address2}\n",
    "이 사람의 전화번호는 {phone2}'''\n",
    "    result = r.format(name2=name,\n",
    "            age2=age,\n",
    "            address2=address,\n",
    "            phone2=phone)\n",
    "    return result"
   ]
  },
  {
   "cell_type": "code",
   "execution_count": 2,
   "metadata": {},
   "outputs": [
    {
     "name": "stdout",
     "output_type": "stream",
     "text": [
      "이 사람의 이름은 방혜찬,\n",
      "이 사람의 나이는 30,\n",
      "이 사람의 주소는 인천광역시\n",
      "이 사람의 전화번호는 01075716926\n"
     ]
    }
   ],
   "source": []
  },
  {
   "cell_type": "markdown",
   "metadata": {},
   "source": [
    "# 가변 매개변수 \n",
    "- 매개변수 이름 앞에 *를 붙여준다.\n",
    "- 사용자가 몇개의 데이터를 전달하던지 상관없이 전부 받아서 사용한다.\n",
    "- 사용자가 전달한 매개변수들을 모두 하나의 튜플로 묶어서 사용한다.\n",
    "\n",
    "### 함수 선언시\n",
    "```python\n",
    "def 함수이름(*매개변수이름):\n",
    "    함수내용\n",
    "```"
   ]
  },
  {
   "cell_type": "code",
   "execution_count": 11,
   "metadata": {},
   "outputs": [],
   "source": []
  },
  {
   "cell_type": "code",
   "execution_count": 13,
   "metadata": {},
   "outputs": [
    {
     "name": "stdout",
     "output_type": "stream",
     "text": [
      "(1, 2, 3, 4, 5, 6)\n",
      "21\n",
      "(1, 2, 3)\n",
      "6\n"
     ]
    }
   ],
   "source": []
  },
  {
   "cell_type": "code",
   "execution_count": 10,
   "metadata": {},
   "outputs": [
    {
     "name": "stdout",
     "output_type": "stream",
     "text": [
      "15\n",
      "120\n"
     ]
    }
   ],
   "source": [
    "def sum_mul(choice, *args): \n",
    "    if choice == \"sum\": \n",
    "        result = 0\n",
    "        for i in args: \n",
    "            result = result + i \n",
    "    elif choice == \"mul\": \n",
    "        result = 1 \n",
    "        for i in args: \n",
    "            result = result * i \n",
    "            \n",
    "    return result \n",
    "\n"
   ]
  },
  {
   "cell_type": "code",
   "execution_count": 14,
   "metadata": {},
   "outputs": [
    {
     "name": "stdout",
     "output_type": "stream",
     "text": [
      "(7, 12)\n"
     ]
    }
   ],
   "source": []
  },
  {
   "cell_type": "markdown",
   "metadata": {},
   "source": [
    "# 문제 1\n",
    "주어진 자연수가 홀수인지 짝수인지 판별해 주는 함수(is_odd)를 작성하시오."
   ]
  },
  {
   "cell_type": "code",
   "execution_count": 15,
   "metadata": {},
   "outputs": [
    {
     "name": "stdout",
     "output_type": "stream",
     "text": [
      "홀수\n"
     ]
    }
   ],
   "source": [
    "def is_odd(number):\n",
    "    # 아래 조건식의 조건을 완성시켜주세요\n",
    "    if ( ):\n",
    "        return '짝수'\n",
    "    else:\n",
    "        return '홀수'\n",
    "\n",
    "    \n",
    "result = is_odd(5)\n",
    "print(result)"
   ]
  },
  {
   "cell_type": "markdown",
   "metadata": {},
   "source": [
    "# 문제 2\n",
    "입력으로 들어오는 모든 수의 평균값을 계산해 주는 함수를 작성해 보자. (단, 입력으로 들어오는 수의 갯수는 정해져 있지 않다.)"
   ]
  },
  {
   "cell_type": "code",
   "execution_count": 16,
   "metadata": {},
   "outputs": [
    {
     "name": "stdout",
     "output_type": "stream",
     "text": [
      "2.375\n"
     ]
    }
   ],
   "source": [
    "def mean(*numbers):\n",
    "    total = 0\n",
    "    # 아래 반복문의 구간과 내용을 작성해주세요\n",
    "    for num in (numbers):\n",
    "        # 내용 작성 - 누적합을 구해보세요\n",
    "        \n",
    "    return total / len(numbers)\n",
    "\n",
    "print(mean(1,2,3,3,4,1,2,3))"
   ]
  },
  {
   "cell_type": "markdown",
   "metadata": {},
   "source": [
    "# 문제 3\n",
    "입력을 자연수 n(2부터 9까지의 자연수)으로 받았을 때, n에 해당되는 구구단을 출력하는 함수를 작성해 보자."
   ]
  },
  {
   "cell_type": "code",
   "execution_count": 18,
   "metadata": {},
   "outputs": [
    {
     "name": "stdout",
     "output_type": "stream",
     "text": [
      "3   6   9   12   15   18   21   24   27   "
     ]
    }
   ],
   "source": [
    "def gugu(dan):\n",
    "    for num in range(1,10):\n",
    "        # 아래의 빈칸을 출력내용에 맞게 작성해주세요!\n",
    "        result = ( )\n",
    "        print(result, end='   ')\n",
    "        \n",
    "gugu(3)"
   ]
  }
 ],
 "metadata": {
  "kernelspec": {
   "display_name": "Python 3",
   "language": "python",
   "name": "python3"
  },
  "language_info": {
   "codemirror_mode": {
    "name": "ipython",
    "version": 3
   },
   "file_extension": ".py",
   "mimetype": "text/x-python",
   "name": "python",
   "nbconvert_exporter": "python",
   "pygments_lexer": "ipython3",
   "version": "3.8.5"
  }
 },
 "nbformat": 4,
 "nbformat_minor": 2
}
