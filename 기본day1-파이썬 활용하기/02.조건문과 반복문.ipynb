{
 "cells": [
  {
   "cell_type": "markdown",
   "metadata": {},
   "source": [
    "# 조건문\n",
    "\n",
    "## 조건문이나 반복문에서 실행할 내용을 block 처리를 해줘야한다.\n",
    "\n",
    "## block의 설정을 들여쓰기(indent)를 통해서 설정한다."
   ]
  },
  {
   "cell_type": "markdown",
   "metadata": {},
   "source": [
    "# if-else 구조\n",
    "\n",
    "```\n",
    "if 조건문:\n",
    "    수행할 문장1\n",
    "    수행할 문장2\n",
    "    ...\n",
    "else:\n",
    "    수행할 문장A\n",
    "    수행할 문장B\n",
    "    ...\n",
    "```"
   ]
  },
  {
   "cell_type": "code",
   "execution_count": 3,
   "metadata": {},
   "outputs": [
    {
     "name": "stdout",
     "output_type": "stream",
     "text": [
      "짝수입니다.\n"
     ]
    }
   ],
   "source": [
    "#숫자가 짝수가 맞는지 체크\n",
    "#조건1 = 짝수인지 확인\n",
    "a= 10 \n",
    "\n",
    "if (a%2)==0:\n",
    "    print(\"짝수입니다.\")\n",
    "else:\n",
    "    print(\"홀수입니다.\")\n",
    "    "
   ]
  },
  {
   "cell_type": "code",
   "execution_count": 4,
   "metadata": {},
   "outputs": [
    {
     "name": "stdout",
     "output_type": "stream",
     "text": [
      "음수나 0입니다.\n"
     ]
    }
   ],
   "source": [
    "#양수인 경우에만 흘짝 체크\n",
    "#1. 홀짝 체크\n",
    "#2. 양수 /음수 체크 \n",
    "\n",
    "a= -10 \n",
    "if(a<=0):\n",
    "    print(\"음수나 0입니다.\")\n",
    "elif (a%2)==0:\n",
    "    print(\"짝수입니다.\")\n",
    "else:\n",
    "    print(\"홀수입니다.\")"
   ]
  },
  {
   "cell_type": "code",
   "execution_count": null,
   "metadata": {},
   "outputs": [],
   "source": []
  },
  {
   "cell_type": "markdown",
   "metadata": {},
   "source": [
    "### 비교연산자들"
   ]
  },
  {
   "cell_type": "code",
   "execution_count": 6,
   "metadata": {},
   "outputs": [
    {
     "data": {
      "text/plain": [
       "False"
      ]
     },
     "execution_count": 6,
     "metadata": {},
     "output_type": "execute_result"
    }
   ],
   "source": [
    "x= 1\n",
    "y= 2\n",
    "x>y"
   ]
  },
  {
   "cell_type": "code",
   "execution_count": 7,
   "metadata": {},
   "outputs": [
    {
     "data": {
      "text/plain": [
       "True"
      ]
     },
     "execution_count": 7,
     "metadata": {},
     "output_type": "execute_result"
    }
   ],
   "source": [
    "x<y"
   ]
  },
  {
   "cell_type": "code",
   "execution_count": 8,
   "metadata": {},
   "outputs": [
    {
     "data": {
      "text/plain": [
       "False"
      ]
     },
     "execution_count": 8,
     "metadata": {},
     "output_type": "execute_result"
    }
   ],
   "source": [
    "x==y\n"
   ]
  },
  {
   "cell_type": "code",
   "execution_count": 9,
   "metadata": {},
   "outputs": [
    {
     "data": {
      "text/plain": [
       "True"
      ]
     },
     "execution_count": 9,
     "metadata": {},
     "output_type": "execute_result"
    }
   ],
   "source": [
    "x!=y"
   ]
  },
  {
   "cell_type": "code",
   "execution_count": 10,
   "metadata": {},
   "outputs": [
    {
     "data": {
      "text/plain": [
       "True"
      ]
     },
     "execution_count": 10,
     "metadata": {},
     "output_type": "execute_result"
    }
   ],
   "source": [
    "x<=y"
   ]
  },
  {
   "cell_type": "code",
   "execution_count": 11,
   "metadata": {},
   "outputs": [
    {
     "data": {
      "text/plain": [
       "False"
      ]
     },
     "execution_count": 11,
     "metadata": {},
     "output_type": "execute_result"
    }
   ],
   "source": [
    "x>=y"
   ]
  },
  {
   "cell_type": "code",
   "execution_count": 13,
   "metadata": {},
   "outputs": [
    {
     "data": {
      "text/plain": [
       "True"
      ]
     },
     "execution_count": 13,
     "metadata": {},
     "output_type": "execute_result"
    }
   ],
   "source": [
    "#& - and, | -or\n",
    "(x<y) | (x==y)"
   ]
  },
  {
   "cell_type": "code",
   "execution_count": 14,
   "metadata": {},
   "outputs": [
    {
     "data": {
      "text/plain": [
       "True"
      ]
     },
     "execution_count": 14,
     "metadata": {},
     "output_type": "execute_result"
    }
   ],
   "source": [
    "#in - group operator\n",
    "x in [1,2,3,4,5]"
   ]
  },
  {
   "cell_type": "markdown",
   "metadata": {},
   "source": [
    "# if-elif-else 구조\n",
    "```\n",
    "If <조건문>:\n",
    "    <수행할 문장1> \n",
    "    <수행할 문장2>\n",
    "    ...\n",
    "elif <조건문>:\n",
    "    <수행할 문장1>\n",
    "    <수행할 문장2>\n",
    "    ...\n",
    "elif <조건문>:\n",
    "    <수행할 문장1>\n",
    "    <수행할 문장2>\n",
    "    ...\n",
    "...\n",
    "else:\n",
    "   <수행할 문장1>\n",
    "   <수행할 문장2>\n",
    "   ... \n",
    "```"
   ]
  },
  {
   "cell_type": "code",
   "execution_count": null,
   "metadata": {},
   "outputs": [],
   "source": []
  },
  {
   "cell_type": "code",
   "execution_count": null,
   "metadata": {},
   "outputs": [],
   "source": []
  },
  {
   "cell_type": "code",
   "execution_count": null,
   "metadata": {},
   "outputs": [],
   "source": []
  },
  {
   "cell_type": "markdown",
   "metadata": {},
   "source": [
    "# 문제1\n",
    "홍길동씨는 n원 돈을 가지고 있다고 한다.\n",
    "홍길동씨는 택시를 타고 목적지까지 가려고 한다.\n",
    "목적지까지 가기 위해서는 4,000원 이상의 현금을 가지고 있어야 한다고 한다. \n",
    "홍길동씨는 택시를 탈 수 있는지를 판별할 수 있는 조건식을 작성하고 그 결과를 출력하시오.\n",
    "\n",
    "홍길동씨가 소유한 금액은 입력 함수를 통해 주어진다."
   ]
  },
  {
   "cell_type": "code",
   "execution_count": 15,
   "metadata": {},
   "outputs": [
    {
     "name": "stdout",
     "output_type": "stream",
     "text": [
      "홍길동씨의 소유금액을 입력해주세요\n",
      "5000\n",
      "홍길동씨의 잔고는 5000 원 입니다.\n",
      "택시를 탈 수 있습니다!!!!\n"
     ]
    }
   ],
   "source": [
    "money = int(input('홍길동씨의 소유금액을 입력해주세요\\n'))\n",
    "print('홍길동씨의 잔고는 %d 원 입니다.' % money)\n",
    "\n",
    "# 아래 if문의 조건식을 완성시켜주세요!!\n",
    "if ( money>4000):\n",
    "    print('택시를 탈 수 있습니다!!!!')\n",
    "else:\n",
    "    print('걸어가세요...')"
   ]
  },
  {
   "cell_type": "markdown",
   "metadata": {},
   "source": [
    "# 문제2\n",
    "두 사람의 나이(ex. 32)를 입력받아서 두 사람의 나이를 비교해보자."
   ]
  },
  {
   "cell_type": "code",
   "execution_count": 16,
   "metadata": {},
   "outputs": [
    {
     "name": "stdout",
     "output_type": "stream",
     "text": [
      "A씨의 나이를 입력해주세요\n",
      "23\n",
      "B씨의 나이를 입력해주세요\n",
      "23\n",
      "A씨와 B씨는 동갑내기입니다!\n"
     ]
    }
   ],
   "source": [
    "personA = int(input('A씨의 나이를 입력해주세요\\n')) # \\n - 줄바꾸기 특수문자열\n",
    "personB = int(input('B씨의 나이를 입력해주세요\\n'))\n",
    "\n",
    "# 아래 빈 괄호 안의 조건식을 완성시켜주세요!\n",
    "if (personA>personB ):\n",
    "    print('A씨가 더 연장자입니다!')\n",
    "elif (personB>personA ):\n",
    "    print('B씨가 더 연장자입니다!')\n",
    "else:\n",
    "    print('A씨와 B씨는 동갑내기입니다!')"
   ]
  },
  {
   "cell_type": "markdown",
   "metadata": {},
   "source": [
    "# while 반복문\n",
    "\n",
    "## 기본구조\n",
    "```\n",
    "while <조건문>:\n",
    "    <수행할 문장1>\n",
    "    <수행할 문장2>\n",
    "    <수행할 문장3>\n",
    "    ...\n",
    "```"
   ]
  },
  {
   "cell_type": "code",
   "execution_count": 17,
   "metadata": {},
   "outputs": [
    {
     "name": "stdout",
     "output_type": "stream",
     "text": [
      "0\n",
      "1\n",
      "2\n",
      "3\n",
      "4\n"
     ]
    }
   ],
   "source": [
    "i = 0\n",
    "# 조건을 만족하는 한 코드를 계속해서 실행한다.\n",
    "while i < 5: # i가 5보다 작으면 계속해서 실행\n",
    "    print(i)\n",
    "    i += 1 # i = i + 1 와 똑같은 코드"
   ]
  },
  {
   "cell_type": "code",
   "execution_count": 18,
   "metadata": {},
   "outputs": [
    {
     "name": "stdout",
     "output_type": "stream",
     "text": [
      "\n",
      "1. Add\n",
      "2. Del\n",
      "3. List\n",
      "4. Quit\n",
      "\n",
      "> 4\n"
     ]
    }
   ],
   "source": [
    "# while 반복문을 사용해서 메뉴를 구현\n",
    "\n",
    "info = \"\"\"\n",
    "1. Add\n",
    "2. Del\n",
    "3. List\n",
    "4. Quit\n",
    "\"\"\"\n",
    "number = 0\n",
    "\n",
    "while number != 4:\n",
    "    print(info)\n",
    "    number = int(input(\"> \"))1"
   ]
  },
  {
   "cell_type": "code",
   "execution_count": null,
   "metadata": {},
   "outputs": [],
   "source": [
    "# 10000원으로 커피랑 차를 사는 예시\n",
    "\n",
    "money = 10000\n",
    "coffee = 1500\n",
    "tea = 2000\n",
    "\n",
    "while money>0:\n",
    "    menu = int(input('''어떤 음료를 구매하시겠습니까?\n",
    "    1. 커피(1500원)\n",
    "    2. 차(2000원)\n",
    "    3. 취소\n",
    "    '''))\n",
    "    if menu==1:\n",
    "        money -= 1500\n",
    "        print('잔금 :',money)\n",
    "    elif menu==2:\n",
    "        money -= 2000\n",
    "        print('잔금 :',money)\n",
    "    elif menu==3:\n",
    "        print('종료합니다.')\n",
    "        break"
   ]
  },
  {
   "cell_type": "markdown",
   "metadata": {},
   "source": [
    "# 문제 1\n",
    "1부터 100까지의 자연수를 모두 더하고 그 결과를 출력하시오."
   ]
  },
  {
   "cell_type": "code",
   "execution_count": null,
   "metadata": {},
   "outputs": [],
   "source": [
    "i = 1\n",
    "total = 0\n",
    "# 아래의 조건식을 완성해보세요\n",
    "while (i<=100):\n",
    "    # 반복문을 완성시켜주세요!\n",
    "    total+=i\n",
    "    i=i+1\n",
    "print(total)"
   ]
  },
  {
   "cell_type": "markdown",
   "metadata": {},
   "source": [
    "# 문제 2\n",
    "1부터 1000까지의 자연수 중 3의 배수의 합을 구하시오."
   ]
  },
  {
   "cell_type": "code",
   "execution_count": null,
   "metadata": {},
   "outputs": [],
   "source": [
    "i = 1\n",
    "total = 0\n",
    "\n",
    "while i<=1000:\n",
    "    # i가 3의 배수인 경우의 조건식을 완성해주세요!\n",
    "    if ( ): # 3의 배수인 경우만 누적!\n",
    "        total += i\n",
    "    i += 1\n",
    "\n",
    "print(total)"
   ]
  },
  {
   "cell_type": "markdown",
   "metadata": {},
   "source": [
    "# for 문"
   ]
  },
  {
   "cell_type": "code",
   "execution_count": 19,
   "metadata": {},
   "outputs": [
    {
     "name": "stdout",
     "output_type": "stream",
     "text": [
      "10\n",
      "20\n",
      "30\n",
      "40\n",
      "50\n"
     ]
    }
   ],
   "source": [
    "numbers =[10,20,30,40,50]\n",
    "for num in numbers:\n",
    "    print(num)"
   ]
  },
  {
   "cell_type": "code",
   "execution_count": 28,
   "metadata": {},
   "outputs": [
    {
     "name": "stdout",
     "output_type": "stream",
     "text": [
      "1번 학생 :90점\n",
      "2번 학생 :60점\n",
      "3번 학생 :40점\n",
      "4번 학생 :76점\n",
      "5번 학생 :98점\n",
      "6번 학생 :34점\n",
      "7번 학생 :56점\n",
      "8번 학생 :77점\n"
     ]
    }
   ],
   "source": [
    "#학생 10명의 수학 점수를 출력한다\n",
    "#학생의 번호와 점수를 같이 출력\n",
    "#1번 하생 : 90점\n",
    "math= [90,60,40,76,98,34,56,77]\n",
    "#python ㄹfor 문에서 data 와 index를 같이 사용하고 싶을때\n",
    "for i, m in enumerate(math):\n",
    "    print('{index}번 학생 :{score}점'.format(index=i+1, score=m))"
   ]
  },
  {
   "cell_type": "code",
   "execution_count": 34,
   "metadata": {},
   "outputs": [
    {
     "name": "stdout",
     "output_type": "stream",
     "text": [
      "1번 학생 합격\n",
      "2번 학생 합격\n",
      "3번 학생 불합격\n",
      "4번 학생 합격\n",
      "5번 학생 합격\n",
      "6번 학생 불합격\n",
      "7번 학생 불합격\n",
      "8번 학생 합격\n"
     ]
    }
   ],
   "source": [
    "#위의 학생들 수학점수를 사용 \n",
    "#60이상 -> 1번 학생 합격\n",
    "# 60점 미만 -> 1번 학생 불합격\n",
    "#enumerator [구간]\n",
    "math= [90,60,40,76,98,34,56,77]\n",
    "#python ㄹfor 문에서 data 와 index를 같이 사용하고 싶을때\n",
    "for i, m in enumerate(math):\n",
    "    if(m>=60):\n",
    "        print('{index}번 학생 합격'.format(index=i+1))\n",
    "    else:\n",
    "        print('{index}번 학생 불합격'.format(index=i+1))"
   ]
  },
  {
   "cell_type": "code",
   "execution_count": 38,
   "metadata": {},
   "outputs": [
    {
     "name": "stdout",
     "output_type": "stream",
     "text": [
      "1\n",
      "2\n",
      "3\n",
      "4\n",
      "5\n",
      "6\n",
      "7\n",
      "8\n",
      "9\n"
     ]
    }
   ],
   "source": [
    "#숫자 배열 생성\n",
    "#숫자 1부터 1000까지 출력\n",
    "#[1, 2,3 4,,,,,1000]\n",
    "#range(시작숫자, 마지막숫자 , 간격)\n",
    "#1-1000\n",
    "for num in range(1, 10,1):\n",
    "    print(num)"
   ]
  },
  {
   "cell_type": "markdown",
   "metadata": {},
   "source": [
    "# 문제1 \n",
    "1부터 1000까지의 숫자의 합을 for문을 이용하여 출력하시오.\n",
    "구간은 range 함수로 정의합니다!"
   ]
  },
  {
   "cell_type": "code",
   "execution_count": 12,
   "metadata": {},
   "outputs": [
    {
     "name": "stdout",
     "output_type": "stream",
     "text": [
      "500500\n"
     ]
    }
   ],
   "source": [
    "total = 0\n",
    "# 아래 반복문의 구간을 작성해주세요!\n",
    "# 1부터 100까지\n",
    "for i in range(1000):\n",
    "    total += i\n",
    "print(total)"
   ]
  },
  {
   "cell_type": "markdown",
   "metadata": {},
   "source": [
    "# 문제2\n",
    "for문을 이용하여 1부터 1000까지의 자연수 중 5의 배수에 해당되는 자연수들의 총합을 구하시오."
   ]
  },
  {
   "cell_type": "code",
   "execution_count": 31,
   "metadata": {},
   "outputs": [
    {
     "name": "stdout",
     "output_type": "stream",
     "text": [
      "99500\n"
     ]
    }
   ],
   "source": [
    "total = 0\n",
    "\n",
    "# 아래 반복문의 구간을 작성해주세요!\n",
    "# 1부터 1000까지\n",
    "for i in range(1000):\n",
    "    # 아래 조건을 완성해주세요!\n",
    "    # 5의 배수인 경우\n",
    "    if ( i%5)==0:\n",
    "        total += i\n",
    "print(total)"
   ]
  },
  {
   "cell_type": "markdown",
   "metadata": {},
   "source": [
    "# 문제3\n",
    "for문을 이용하여 A 학급의 평균 점수를 구해 보자.\n",
    "```\n",
    "A = [70, 60, 55, 75, 95, 90, 80, 80, 85, 100]\n",
    "```"
   ]
  },
  {
   "cell_type": "code",
   "execution_count": null,
   "metadata": {},
   "outputs": [],
   "source": [
    "A = [70, 60, 55, 75, 95, 90, 80, 80, 85, 100]\n",
    "total = 0\n",
    "for score in A:\n",
    "    # 점수의 합산을 구하는 코드 작성!\n",
    "    \n",
    "\n",
    "print('A반의 평균점수는 %f 점 입니다.'%(total/len(A)))"
   ]
  },
  {
   "cell_type": "markdown",
   "metadata": {},
   "source": [
    "# 문제4\n",
    "다음은 학생들의 혈액형(A, B, AB, O)에 대한 데이터이다.\n",
    "```\n",
    "['A', 'B', 'A', 'O', 'AB', 'AB', 'O', 'A', 'B', 'O', 'B', 'AB']\n",
    "```\n",
    "for 문을 이용하여 각 혈액형 별 학생수의 합계를 구하시오."
   ]
  },
  {
   "cell_type": "code",
   "execution_count": null,
   "metadata": {},
   "outputs": [],
   "source": [
    "blood_type = ['A', 'B', 'A', 'O', 'AB', 'AB', 'O', 'A', 'B', 'O', 'B', 'AB']\n",
    "A = 0\n",
    "B = 0\n",
    "AB = 0\n",
    "O = 0\n",
    "\n",
    "# 아래 반복문의 구간과 변수이름을 작성해주세요!\n",
    "for ( ) in ( ):\n",
    "    if blood=='A':\n",
    "        A+=1\n",
    "    elif blood=='B':\n",
    "        B+=1\n",
    "    elif blood=='AB':\n",
    "        \n",
    "        AB+=1\n",
    "    else:\n",
    "        O+=1\n",
    "        \n",
    "print('A형 : %d명, B형 : %d명, AB형 : %d명, O형 : %d명' %(A, B, AB, O))"
   ]
  },
  {
   "cell_type": "code",
   "execution_count": null,
   "metadata": {},
   "outputs": [],
   "source": []
  },
  {
   "cell_type": "code",
   "execution_count": null,
   "metadata": {},
   "outputs": [],
   "source": []
  },
  {
   "cell_type": "code",
   "execution_count": null,
   "metadata": {},
   "outputs": [],
   "source": []
  },
  {
   "cell_type": "code",
   "execution_count": 28,
   "metadata": {},
   "outputs": [
    {
     "name": "stdout",
     "output_type": "stream",
     "text": [
      "A형 : 3명, B형 : 3명, AB형 : 3명, O형 : 3명\n",
      "\n"
     ]
    }
   ],
   "source": [
    "blood_type = ['A', 'B', 'A', 'O', 'AB', 'AB', 'O', 'A', 'B', 'O', 'B', 'AB']\n",
    "A = 0\n",
    "B = 0\n",
    "AB = 0\n",
    "O = 0\n",
    "\n",
    "# 아래 반복문의 구간과 변수이름을 작성해주세요!\n",
    "for blood in blood_type:\n",
    "    if blood=='A':\n",
    "        A+=1\n",
    "    elif blood=='B':\n",
    "        B+=1\n",
    "    elif blood=='AB':\n",
    "        \n",
    "        AB+=1\n",
    "    else:\n",
    "        O+=1\n",
    "        \n",
    "print('A형 : {0}명, B형 : {1}명, AB형 : {2}명, O형 : {3}명'%(A, B, AB, O)) \n",
    "print()"
   ]
  },
  {
   "cell_type": "code",
   "execution_count": 24,
   "metadata": {},
   "outputs": [
    {
     "name": "stdout",
     "output_type": "stream",
     "text": [
      "{'A': 3, 'B': 3, 'O': 3, 'AB': 3}\n"
     ]
    }
   ],
   "source": [
    "hullack =['A', 'B', 'A', 'O', 'AB', 'AB', 'O', 'A', 'B', 'O', 'B', 'AB']\n",
    "\n",
    "d={'A':2, 'B':1, 'o':1}\n",
    "\n",
    "for f in hullack:\n",
    "    if f in d:\n",
    "        d[f] = d[f] + 1\n",
    "    else:\n",
    "        d[f] = 1\n",
    "\n",
    "print(d)"
   ]
  },
  {
   "cell_type": "code",
   "execution_count": null,
   "metadata": {},
   "outputs": [],
   "source": []
  },
  {
   "cell_type": "code",
   "execution_count": null,
   "metadata": {},
   "outputs": [],
   "source": []
  },
  {
   "cell_type": "code",
   "execution_count": null,
   "metadata": {},
   "outputs": [],
   "source": []
  },
  {
   "cell_type": "code",
   "execution_count": null,
   "metadata": {},
   "outputs": [],
   "source": []
  },
  {
   "cell_type": "code",
   "execution_count": null,
   "metadata": {},
   "outputs": [],
   "source": []
  },
  {
   "cell_type": "code",
   "execution_count": null,
   "metadata": {},
   "outputs": [],
   "source": []
  },
  {
   "cell_type": "code",
   "execution_count": null,
   "metadata": {},
   "outputs": [],
   "source": []
  },
  {
   "cell_type": "code",
   "execution_count": null,
   "metadata": {},
   "outputs": [],
   "source": []
  },
  {
   "cell_type": "code",
   "execution_count": null,
   "metadata": {},
   "outputs": [],
   "source": []
  },
  {
   "cell_type": "code",
   "execution_count": null,
   "metadata": {},
   "outputs": [],
   "source": []
  },
  {
   "cell_type": "code",
   "execution_count": null,
   "metadata": {},
   "outputs": [],
   "source": []
  },
  {
   "cell_type": "code",
   "execution_count": null,
   "metadata": {},
   "outputs": [],
   "source": []
  },
  {
   "cell_type": "code",
   "execution_count": null,
   "metadata": {},
   "outputs": [],
   "source": []
  },
  {
   "cell_type": "code",
   "execution_count": null,
   "metadata": {},
   "outputs": [],
   "source": []
  }
 ],
 "metadata": {
  "kernelspec": {
   "display_name": "Python 3",
   "language": "python",
   "name": "python3"
  },
  "language_info": {
   "codemirror_mode": {
    "name": "ipython",
    "version": 3
   },
   "file_extension": ".py",
   "mimetype": "text/x-python",
   "name": "python",
   "nbconvert_exporter": "python",
   "pygments_lexer": "ipython3",
   "version": "3.8.8"
  }
 },
 "nbformat": 4,
 "nbformat_minor": 2
}
