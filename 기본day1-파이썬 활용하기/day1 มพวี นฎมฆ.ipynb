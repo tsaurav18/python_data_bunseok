{
 "cells": [
  {
   "cell_type": "markdown",
   "metadata": {},
   "source": [
    "# 문제 1\n",
    "1부터 10까지 자연수를 각각 제곱해 더하면 다음과 같다. (제곱의 합)\n",
    "\n",
    "$$\n",
    "1^2+2^2+...+10^2=385\n",
    "$$\n",
    "\n",
    "1부터 10을 먼저 더한 다음에 그 결과를 제곱하면 다음과 같다. (합의 제곱).\n",
    "\n",
    "$$\n",
    "(1+2+...+10)^2=55^2=3025\n",
    "$$\n",
    "\n",
    "따라서 1부터 10까지 자연수에 대해 \"합의 제곱\"과 \"제곱의 합\" 의 차이는 3025 - 385 = 2640 이 된다.\n",
    "\n",
    "그러면 1부터 100까지 자연수에 대해 \"합의 제곱\"과 \"제곱의 합\"의 차이는 얼마일까?\n"
   ]
  },
  {
   "cell_type": "code",
   "execution_count": 1,
   "metadata": {},
   "outputs": [
    {
     "name": "stdout",
     "output_type": "stream",
     "text": [
      "25164150\n"
     ]
    }
   ],
   "source": [
    "sum_of_square = 0\n",
    "square_of_sum = 0\n",
    "\n",
    "for num in range(1, 101):\n",
    "    # 내용 작성\n",
    "\n",
    "print(square_of_sum - sum_of_square)"
   ]
  },
  {
   "cell_type": "markdown",
   "metadata": {},
   "source": [
    "# 문제 2\n",
    "문자열을 입력 받아 같은 문자가 연속적으로 반복되는 경우에 그 반복 횟수를 표시하여 문자열을 압축하여 표시해 보자.\n",
    "```\n",
    "입력 예시: aaabbcccccca\n",
    "출력 예시: a3b2c6a1\n",
    "```"
   ]
  },
  {
   "cell_type": "code",
   "execution_count": 3,
   "metadata": {},
   "outputs": [
    {
     "name": "stdout",
     "output_type": "stream",
     "text": [
      "문자열을 입력해주세요aaabbcccccca\n",
      "a3b2c6a1\n"
     ]
    }
   ],
   "source": [
    "str1 = input('문자열을 입력해주세요')\n",
    "\n",
    "temp = str1[0]\n",
    "count = 0\n",
    "result = ''\n",
    "\n",
    "for c in str1:\n",
    "    if temp==c:\n",
    "        # 연속된 문자 발견시 카운트하는 코드 작성\n",
    "        \n",
    "    else:\n",
    "        # 다른 문자 발견시 \n",
    "        # 이전 문자와 개수 result에 추가하는 코드 작성\n",
    "        \n",
    "        \n",
    "# 마지막 문자와 개수 result에 추가하는 코드\n",
    "result += '%s%d' %(temp,count)\n",
    "\n",
    "print(result)"
   ]
  },
  {
   "cell_type": "markdown",
   "metadata": {},
   "source": [
    "# 문제 3\n",
    "시저 암호는 고대 로마의 황제 줄리어스 시저가 만들어 낸 암호인데 예를 들어 알파벳 A를 입력했을 때 그 알파벳의 n개 뒤에 오는 알파벳이 출력되는 것이다. 예를 들어 바꾸려는 단어가 CAT이고 n을 5로 지정하였을 때 HFY가 되는 것이다.\n",
    "```\n",
    "예1) 단어는 CAT, n은 5\n",
    "CAT -> HFY\n",
    "\n",
    "예2) 단어는 ZOO, n은 3\n",
    "ZOO -> CRR\n",
    "```\n",
    "어떠한 암호를 만들 단어와 n을 입력했을 때 암호를 만들어 출력하는 프로그램을 작성해라. (단, 단어는 항상 대문자로 표시한다.)"
   ]
  },
  {
   "cell_type": "code",
   "execution_count": 4,
   "metadata": {},
   "outputs": [
    {
     "name": "stdout",
     "output_type": "stream",
     "text": [
      "KHOOR\n"
     ]
    }
   ],
   "source": [
    "def password(word, n):\n",
    "    alphabet = 'ABCDEFGHIJKLMNOPQRSTUVWXYZ'\n",
    "    word = word.upper()\n",
    "    result = ''\n",
    "    \n",
    "    for alpha in word:\n",
    "        # 입력받은 문자열을 한글자씩 암호화해서\n",
    "        # result에 추가하는 코드 작성!\n",
    "        result += ( )\n",
    "        \n",
    "    return result\n",
    "\n",
    "pw = password('hello', 3)\n",
    "print(pw)"
   ]
  }
 ],
 "metadata": {
  "kernelspec": {
   "display_name": "Python 3",
   "language": "python",
   "name": "python3"
  },
  "language_info": {
   "codemirror_mode": {
    "name": "ipython",
    "version": 3
   },
   "file_extension": ".py",
   "mimetype": "text/x-python",
   "name": "python",
   "nbconvert_exporter": "python",
   "pygments_lexer": "ipython3",
   "version": "3.8.5"
  }
 },
 "nbformat": 4,
 "nbformat_minor": 2
}
